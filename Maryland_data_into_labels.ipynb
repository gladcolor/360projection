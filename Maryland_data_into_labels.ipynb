{
  "nbformat": 4,
  "nbformat_minor": 0,
  "metadata": {
    "colab": {
      "name": "Maryland data into labels.ipynb",
      "provenance": [],
      "collapsed_sections": [],
      "toc_visible": true,
      "include_colab_link": true
    },
    "kernelspec": {
      "name": "python3",
      "display_name": "Python 3"
    }
  },
  "cells": [
    {
      "cell_type": "markdown",
      "metadata": {
        "id": "view-in-github",
        "colab_type": "text"
      },
      "source": [
        "<a href=\"https://colab.research.google.com/github/gladcolor/360projection/blob/master/Maryland_data_into_labels.ipynb\" target=\"_parent\"><img src=\"https://colab.research.google.com/assets/colab-badge.svg\" alt=\"Open In Colab\"/></a>"
      ]
    },
    {
      "cell_type": "code",
      "metadata": {
        "id": "hNWqfb_52zW8",
        "colab_type": "code",
        "outputId": "1530c8eb-78b4-42cb-dbc6-97b941014eb8",
        "colab": {
          "base_uri": "https://localhost:8080/",
          "height": 193
        }
      },
      "source": [
        "!pip install dbfread\n",
        "!pip install pyproj"
      ],
      "execution_count": 0,
      "outputs": [
        {
          "output_type": "stream",
          "text": [
            "Collecting dbfread\n",
            "  Downloading https://files.pythonhosted.org/packages/4c/94/51349e43503e30ed7b4ecfe68a8809cdb58f722c0feb79d18b1f1e36fe74/dbfread-2.0.7-py2.py3-none-any.whl\n",
            "Installing collected packages: dbfread\n",
            "Successfully installed dbfread-2.0.7\n",
            "Collecting pyproj\n",
            "\u001b[?25l  Downloading https://files.pythonhosted.org/packages/77/15/d93f446d253d26b91553f86cf21049183e9b0f51f8c8e6cb2cff081bcc02/pyproj-2.5.0-cp36-cp36m-manylinux2010_x86_64.whl (10.4MB)\n",
            "\u001b[K     |████████████████████████████████| 10.4MB 2.8MB/s \n",
            "\u001b[?25hInstalling collected packages: pyproj\n",
            "Successfully installed pyproj-2.5.0\n"
          ],
          "name": "stdout"
        }
      ]
    },
    {
      "cell_type": "code",
      "metadata": {
        "id": "c2rVCjerWAXt",
        "colab_type": "code",
        "colab": {}
      },
      "source": [
        "import os\n",
        "import re\n",
        "import glob\n",
        "import requests\n",
        "from dbfread import DBF\n",
        "from pyproj import CRS\n",
        "from pyproj import Transformer"
      ],
      "execution_count": 0,
      "outputs": []
    },
    {
      "cell_type": "code",
      "metadata": {
        "id": "sUDqoUq9WFpB",
        "colab_type": "code",
        "outputId": "53045497-8975-4072-b93f-6225de372da5",
        "colab": {
          "base_uri": "https://localhost:8080/",
          "height": 124
        }
      },
      "source": [
        "from google.colab import drive\n",
        "drive.mount('/content/drive')"
      ],
      "execution_count": 0,
      "outputs": [
        {
          "output_type": "stream",
          "text": [
            "Go to this URL in a browser: https://accounts.google.com/o/oauth2/auth?client_id=947318989803-6bn6qk8qdgf4n4g3pfee6491hc0brc4i.apps.googleusercontent.com&redirect_uri=urn%3aietf%3awg%3aoauth%3a2.0%3aoob&response_type=code&scope=email%20https%3a%2f%2fwww.googleapis.com%2fauth%2fdocs.test%20https%3a%2f%2fwww.googleapis.com%2fauth%2fdrive%20https%3a%2f%2fwww.googleapis.com%2fauth%2fdrive.photos.readonly%20https%3a%2f%2fwww.googleapis.com%2fauth%2fpeopleapi.readonly\n",
            "\n",
            "Enter your authorization code:\n",
            "··········\n",
            "Mounted at /content/drive\n"
          ],
          "name": "stdout"
        }
      ]
    },
    {
      "cell_type": "code",
      "metadata": {
        "id": "VSugN3v6aObb",
        "colab_type": "code",
        "outputId": "aa338b5f-69d0-4688-db20-36e058518fb6",
        "colab": {
          "base_uri": "https://localhost:8080/",
          "height": 34
        }
      },
      "source": [
        "# Make the directory if it does not exist\n",
        "# You can change the directory as you'd like\n",
        "# !mkdir 'drive/My Drive/research'\n",
        "# !mkdir 'drive/My Drive/research/data'\n",
        "%cd 'drive/My Drive/research/data'"
      ],
      "execution_count": 0,
      "outputs": [
        {
          "output_type": "stream",
          "text": [
            "/content/drive/My Drive/research/data\n"
          ],
          "name": "stdout"
        }
      ]
    },
    {
      "cell_type": "markdown",
      "metadata": {
        "id": "GVryQNCX2LNQ",
        "colab_type": "text"
      },
      "source": [
        "Get the list of data files"
      ]
    },
    {
      "cell_type": "code",
      "metadata": {
        "id": "vPI8SDiBWSjC",
        "colab_type": "code",
        "colab": {}
      },
      "source": [
        "download_page = \"https://apps.planning.maryland.gov/Secure/REST/SharepointService1.svc/GetOpenData\"\n",
        "attachments = requests.get(download_page).json()\n",
        "links = []\n",
        "for attachment in attachments:\n",
        "  if attachment[\"FILENAME\"].endswith(\"MPV15\"):\n",
        "    links.append((attachment[\"FILELINK\"], attachment[\"FILENAME\"]))"
      ],
      "execution_count": 0,
      "outputs": []
    },
    {
      "cell_type": "markdown",
      "metadata": {
        "id": "nzl9aUbX2ICS",
        "colab_type": "text"
      },
      "source": [
        "Download all of the data files"
      ]
    },
    {
      "cell_type": "code",
      "metadata": {
        "id": "yCWpW2Qy0eXE",
        "colab_type": "code",
        "outputId": "7d0dbf1b-c237-4469-b9d7-8fe4dbcd4246",
        "colab": {
          "base_uri": "https://localhost:8080/",
          "height": 458
        }
      },
      "source": [
        "for link, filename in links:\n",
        "  print(f\"downloading {filename}\")\n",
        "  os.system(f\"wget -nc {link}?dl=1 -O {filename}.zip\")"
      ],
      "execution_count": 0,
      "outputs": [
        {
          "output_type": "stream",
          "text": [
            "downloading ALLE_MPV15\n",
            "downloading ANNE_MPV15\n",
            "downloading BACO_MPV15\n",
            "downloading BACI_MPV15\n",
            "downloading CALV_MPV15\n",
            "downloading CARO_MPV15\n",
            "downloading CARR_MPV15\n",
            "downloading CECI_MPV15\n",
            "downloading CHAR_MPV15\n",
            "downloading DORC_MPV15\n",
            "downloading FRED_MPV15\n",
            "downloading GARR_MPV15\n",
            "downloading HARF_MPV15\n",
            "downloading HOWA_MPV15\n",
            "downloading KENT_MPV15\n",
            "downloading MONT_MPV15\n",
            "downloading PRIN_MPV15\n",
            "downloading QUEE_MPV15\n",
            "downloading SOME_MPV15\n",
            "downloading STMA_MPV15\n",
            "downloading TALB_MPV15\n",
            "downloading WASH_MPV15\n",
            "downloading WICO_MPV15\n",
            "downloading WORC_MPV15\n"
          ],
          "name": "stdout"
        }
      ]
    },
    {
      "cell_type": "markdown",
      "metadata": {
        "id": "AyftBQxW2QJh",
        "colab_type": "text"
      },
      "source": [
        "Unzip data files (this takes a long time)\n"
      ]
    },
    {
      "cell_type": "code",
      "metadata": {
        "id": "E6fOYnRNfeRU",
        "colab_type": "code",
        "colab": {}
      },
      "source": [
        "!unzip \\*.zip"
      ],
      "execution_count": 0,
      "outputs": []
    },
    {
      "cell_type": "code",
      "metadata": {
        "id": "TgqZyZO5f4ab",
        "colab_type": "code",
        "outputId": "bd8467a9-205f-4543-da83-d6dc2103f6d7",
        "colab": {
          "base_uri": "https://localhost:8080/",
          "height": 208
        }
      },
      "source": [
        "%ls\n",
        "# make sure all the files are here"
      ],
      "execution_count": 0,
      "outputs": [
        {
          "output_type": "stream",
          "text": [
            "\u001b[0m\u001b[01;34mAlle2015\u001b[0m/       CARO_MPV15.zip  FRED_MPV15.zip  locations.csv   \u001b[01;34mTalb2015\u001b[0m/\n",
            "ALLE_MPV15.zip  \u001b[01;34mCarr2015\u001b[0m/       \u001b[01;34mGarr2015\u001b[0m/       \u001b[01;34mMont2015\u001b[0m/       TALB_MPV15.zip\n",
            "\u001b[01;34mAnne2015\u001b[0m/       CARR_MPV15.zip  GARR_MPV15.zip  MONT_MPV15.zip  \u001b[01;34mWash2015\u001b[0m/\n",
            "ANNE_MPV15.zip  \u001b[01;34mCeci2015\u001b[0m/       \u001b[01;34mHarf2015\u001b[0m/       \u001b[01;34mPrin2015\u001b[0m/       WASH_MPV15.zip\n",
            "\u001b[01;34mBaci2015\u001b[0m/       CECI_MPV15.zip  HARF_MPV15.zip  PRIN_MPV15.zip  \u001b[01;34mweather\u001b[0m/\n",
            "BACI_MPV15.zip  \u001b[01;34mChar2015\u001b[0m/       \u001b[01;34mHowa2015\u001b[0m/       \u001b[01;34mQuee2015\u001b[0m/       \u001b[01;34mWico2015\u001b[0m/\n",
            "\u001b[01;34mBaco2015\u001b[0m/       CHAR_MPV15.zip  HOWA_MPV15.zip  QUEE_MPV15.zip  WICO_MPV15.zip\n",
            "BACO_MPV15.zip  \u001b[01;34mDorc2015\u001b[0m/       \u001b[01;34mKent2015\u001b[0m/       \u001b[01;34mSome2015\u001b[0m/       \u001b[01;34mWorc2015\u001b[0m/\n",
            "\u001b[01;34mCalv2015\u001b[0m/       DORC_MPV15.zip  KENT_MPV15.zip  SOME_MPV15.zip  WORC_MPV15.zip\n",
            "CALV_MPV15.zip  erros.csv       labels.csv      \u001b[01;34mStma2015\u001b[0m/\n",
            "\u001b[01;34mCaro2015\u001b[0m/       \u001b[01;34mFred2015\u001b[0m/       labels-old.csv  STMA_MPV15.zip\n"
          ],
          "name": "stdout"
        }
      ]
    },
    {
      "cell_type": "code",
      "metadata": {
        "id": "w5JZzDmTW48b",
        "colab_type": "code",
        "colab": {}
      },
      "source": [
        "data_files = glob.glob(\"*/ATDATA/DATABASE/*2015.dbf\")"
      ],
      "execution_count": 0,
      "outputs": []
    },
    {
      "cell_type": "code",
      "metadata": {
        "id": "BTkAQ2Rk4Pax",
        "colab_type": "code",
        "colab": {}
      },
      "source": [
        "# Setup transformer\n",
        "crs_102285 = CRS.from_proj4(\"+proj=lcc +lat_1=38.3 +lat_2=39.45 +lat_0=37.66666666666666 +lon_0=-77 +x_0=400000 +y_0=0 +ellps=GRS80 +units=m no_defs\")\n",
        "# This is obtained from http://epsg.io/102285\n",
        "crs_4326 = CRS.from_epsg(4326)\n",
        "transformer = Transformer.from_crs(crs_102285, crs_4326)"
      ],
      "execution_count": 0,
      "outputs": []
    },
    {
      "cell_type": "code",
      "metadata": {
        "id": "t1MnUO1pZ5Py",
        "colab_type": "code",
        "outputId": "da7e0d0d-0df2-4026-9cba-bf1c377686a7",
        "colab": {
          "base_uri": "https://localhost:8080/",
          "height": 234
        }
      },
      "source": [
        "# !rm locations.csv errors.csv\n",
        "output = open(\"labels.csv\", \"w\")\n",
        "# errors = open(\"erros.csv\", \"w\")\n",
        "output.write(\"#,ACCTID,class,label text\\n\")\n",
        "# open and prepare filse\n",
        "\n",
        "row_num = 1\n",
        "\n",
        "building_types = {}\n",
        "\n",
        "for data_file in data_files:\n",
        "  print(f\"Processing {data_file}\")\n",
        "  dbf = DBF(data_file, encoding='iso-8859-1') # \n",
        "  for row in dbf:\n",
        "    acctid = row[\"ACCTID\"]\n",
        "    story = row[\"DESCSTYL\"]\n",
        "    residential = row[\"RESIDENT\"]\n",
        "    lu = row[\"LU\"]\n",
        "\n",
        "    building_type = 0\n",
        "    if lu in [\"C\", \"EC\"]: # commercial, exempt commercial\n",
        "      building_type = 1\n",
        "          \n",
        "    story = row[\"BLDG_STORY\"]\n",
        "    story_num = 0\n",
        "    if \"STRY\" in row[\"DESCSTYL\"] and \"INDUSTRY\" not in row[\"DESCSTYL\"]:\n",
        "      story = row[\"DESCSTYL\"].replace(\"Split Foyer\", \"2\").lstrip(string.ascii_letters + \" \").split(\" Story\")[0].replace(\" 1/2\", \".5\")\n",
        "      # FIXME: Add support for different types of residential buildings here. E.g. TH, SF, CN, AP, etc.\n",
        "      story_num = min(int(float(story) * 2 - 1), 8)\n",
        "    elif story != \"\":\n",
        "      story_num = min(int(story.lstrip(\"0\")) * 2 - 1, 8)\n",
        "    else: # Unknown. Set everything to 0.\n",
        "      building_type = 0\n",
        "      story_num = 0\n",
        "      \n",
        "\n",
        "    class_num = building_type * 8 + story_num\n",
        "    \n",
        "    desc = \"\"\n",
        "\n",
        "    building_types = [\"residential\", \"commercial\"]\n",
        "    stories = [\"Cannot tell\", \"1\", \"1.5\", \"2\", \"2.5\", \"3\", \"3.5\", \"4\", \"> 4\"]\n",
        "\n",
        "    if class_num != 0:\n",
        "      desc += building_types[building_type]\n",
        "      \n",
        "    desc += stories[story_num]\n",
        "      \n",
        "    \n",
        "    # print(acctid, story, residential)\n",
        "    output.write(f\"{row_num},{acctid},{class_num},{desc}\\n\")\n",
        "    row_num += 1\n",
        "  output.flush()"
      ],
      "execution_count": 0,
      "outputs": [
        {
          "output_type": "error",
          "ename": "NameError",
          "evalue": "ignored",
          "traceback": [
            "\u001b[0;31m---------------------------------------------------------------------------\u001b[0m",
            "\u001b[0;31mNameError\u001b[0m                                 Traceback (most recent call last)",
            "\u001b[0;32m<ipython-input-1-4d4aea7711bb>\u001b[0m in \u001b[0;36m<module>\u001b[0;34m()\u001b[0m\n\u001b[1;32m      8\u001b[0m \u001b[0mbuilding_types\u001b[0m \u001b[0;34m=\u001b[0m \u001b[0;34m{\u001b[0m\u001b[0;34m}\u001b[0m\u001b[0;34m\u001b[0m\u001b[0;34m\u001b[0m\u001b[0m\n\u001b[1;32m      9\u001b[0m \u001b[0;34m\u001b[0m\u001b[0m\n\u001b[0;32m---> 10\u001b[0;31m \u001b[0;32mfor\u001b[0m \u001b[0mdata_file\u001b[0m \u001b[0;32min\u001b[0m \u001b[0mdata_files\u001b[0m\u001b[0;34m:\u001b[0m\u001b[0;34m\u001b[0m\u001b[0;34m\u001b[0m\u001b[0m\n\u001b[0m\u001b[1;32m     11\u001b[0m   \u001b[0mprint\u001b[0m\u001b[0;34m(\u001b[0m\u001b[0;34mf\"Processing {data_file}\"\u001b[0m\u001b[0;34m)\u001b[0m\u001b[0;34m\u001b[0m\u001b[0;34m\u001b[0m\u001b[0m\n\u001b[1;32m     12\u001b[0m   \u001b[0mdbf\u001b[0m \u001b[0;34m=\u001b[0m \u001b[0mDBF\u001b[0m\u001b[0;34m(\u001b[0m\u001b[0mdata_file\u001b[0m\u001b[0;34m,\u001b[0m \u001b[0mencoding\u001b[0m\u001b[0;34m=\u001b[0m\u001b[0;34m'iso-8859-1'\u001b[0m\u001b[0;34m)\u001b[0m \u001b[0;31m#\u001b[0m\u001b[0;34m\u001b[0m\u001b[0;34m\u001b[0m\u001b[0m\n",
            "\u001b[0;31mNameError\u001b[0m: name 'data_files' is not defined"
          ]
        }
      ]
    },
    {
      "cell_type": "code",
      "metadata": {
        "id": "53E_Ms5tW7M4",
        "colab_type": "code",
        "colab": {}
      },
      "source": [
        ""
      ],
      "execution_count": 0,
      "outputs": []
    }
  ]
}